{
 "cells": [
  {
   "cell_type": "code",
   "execution_count": 1,
   "id": "49aaa5b6-59be-48b3-8d56-ba1baeb63f29",
   "metadata": {},
   "outputs": [],
   "source": [
    "import requests\n",
    "import pandas as pd\n",
    "import time\n",
    "import polars as pl\n",
    "from api import API_KEY"
   ]
  },
  {
   "cell_type": "code",
   "execution_count": 2,
   "id": "efa66358",
   "metadata": {},
   "outputs": [],
   "source": [
    "API_KEY = API_KEY"
   ]
  },
  {
   "cell_type": "code",
   "execution_count": 3,
   "id": "a97f05b2-b365-4547-a16a-c5ba419a8726",
   "metadata": {},
   "outputs": [
    {
     "name": "stdout",
     "output_type": "stream",
     "text": [
      "Searching for: data science\n",
      "Searching for: machine learning\n",
      "Searching for: python tutorial\n",
      "Searching for: artificial intelligence\n",
      "Searching for: data analytics\n",
      "Total videos collected: 3046\n"
     ]
    },
    {
     "data": {
      "text/html": [
       "<div>\n",
       "<style scoped>\n",
       "    .dataframe tbody tr th:only-of-type {\n",
       "        vertical-align: middle;\n",
       "    }\n",
       "\n",
       "    .dataframe tbody tr th {\n",
       "        vertical-align: top;\n",
       "    }\n",
       "\n",
       "    .dataframe thead th {\n",
       "        text-align: right;\n",
       "    }\n",
       "</style>\n",
       "<table border=\"1\" class=\"dataframe\">\n",
       "  <thead>\n",
       "    <tr style=\"text-align: right;\">\n",
       "      <th></th>\n",
       "      <th>keyword</th>\n",
       "      <th>video_id</th>\n",
       "      <th>title</th>\n",
       "      <th>channel</th>\n",
       "      <th>published</th>\n",
       "      <th>views</th>\n",
       "      <th>likes</th>\n",
       "      <th>comments</th>\n",
       "    </tr>\n",
       "  </thead>\n",
       "  <tbody>\n",
       "    <tr>\n",
       "      <th>0</th>\n",
       "      <td>data science</td>\n",
       "      <td>RBSUwFGa6Fk</td>\n",
       "      <td>What is Data Science?</td>\n",
       "      <td>IBM Technology</td>\n",
       "      <td>2022-06-13T12:00:14Z</td>\n",
       "      <td>793311</td>\n",
       "      <td>16888</td>\n",
       "      <td>305</td>\n",
       "    </tr>\n",
       "    <tr>\n",
       "      <th>1</th>\n",
       "      <td>data science</td>\n",
       "      <td>FsSrzmRawUg</td>\n",
       "      <td>Intro to Data Science: What is Data Science?</td>\n",
       "      <td>Steve Brunton</td>\n",
       "      <td>2019-06-06T05:19:06Z</td>\n",
       "      <td>124740</td>\n",
       "      <td>1788</td>\n",
       "      <td>43</td>\n",
       "    </tr>\n",
       "    <tr>\n",
       "      <th>2</th>\n",
       "      <td>data science</td>\n",
       "      <td>9R3X0JoCLyU</td>\n",
       "      <td>The Complete Data Science Roadmap</td>\n",
       "      <td>Programming with Mosh</td>\n",
       "      <td>2024-08-01T13:00:08Z</td>\n",
       "      <td>445118</td>\n",
       "      <td>14356</td>\n",
       "      <td>360</td>\n",
       "    </tr>\n",
       "    <tr>\n",
       "      <th>3</th>\n",
       "      <td>data science</td>\n",
       "      <td>dcXqhMqhZUo</td>\n",
       "      <td>Data Analytics vs Data Science</td>\n",
       "      <td>IBM Technology</td>\n",
       "      <td>2023-11-08T12:00:38Z</td>\n",
       "      <td>677108</td>\n",
       "      <td>13757</td>\n",
       "      <td>231</td>\n",
       "    </tr>\n",
       "    <tr>\n",
       "      <th>4</th>\n",
       "      <td>data science</td>\n",
       "      <td>X3paOmcrTjQ</td>\n",
       "      <td>Data Science In 5 Minutes | Data Science For B...</td>\n",
       "      <td>Simplilearn</td>\n",
       "      <td>2018-12-04T14:30:01Z</td>\n",
       "      <td>4421608</td>\n",
       "      <td>62107</td>\n",
       "      <td>1101</td>\n",
       "    </tr>\n",
       "  </tbody>\n",
       "</table>\n",
       "</div>"
      ],
      "text/plain": [
       "        keyword     video_id  \\\n",
       "0  data science  RBSUwFGa6Fk   \n",
       "1  data science  FsSrzmRawUg   \n",
       "2  data science  9R3X0JoCLyU   \n",
       "3  data science  dcXqhMqhZUo   \n",
       "4  data science  X3paOmcrTjQ   \n",
       "\n",
       "                                               title                channel  \\\n",
       "0                              What is Data Science?         IBM Technology   \n",
       "1       Intro to Data Science: What is Data Science?          Steve Brunton   \n",
       "2                  The Complete Data Science Roadmap  Programming with Mosh   \n",
       "3                     Data Analytics vs Data Science         IBM Technology   \n",
       "4  Data Science In 5 Minutes | Data Science For B...            Simplilearn   \n",
       "\n",
       "              published    views  likes  comments  \n",
       "0  2022-06-13T12:00:14Z   793311  16888       305  \n",
       "1  2019-06-06T05:19:06Z   124740   1788        43  \n",
       "2  2024-08-01T13:00:08Z   445118  14356       360  \n",
       "3  2023-11-08T12:00:38Z   677108  13757       231  \n",
       "4  2018-12-04T14:30:01Z  4421608  62107      1101  "
      ]
     },
     "execution_count": 3,
     "metadata": {},
     "output_type": "execute_result"
    }
   ],
   "source": [
    "keywords = [\"data science\", \"machine learning\", \"python tutorial\", \"artificial intelligence\", \"data analytics\"]\n",
    "max_results_per_keyword = 2000\n",
    "\n",
    "all_video_data = []\n",
    "\n",
    "for keyword in keywords:\n",
    "    print(f\"Searching for: {keyword}\")\n",
    "    search_url = \"https://www.googleapis.com/youtube/v3/search\"\n",
    "    next_page_token = None\n",
    "    total_collected = 0\n",
    "\n",
    "    while total_collected < max_results_per_keyword:\n",
    "        params = {\n",
    "            \"part\": \"snippet\",\n",
    "            \"q\": keyword,\n",
    "            \"type\": \"video\",\n",
    "            \"maxResults\": 50,\n",
    "            \"key\": API_KEY}\n",
    "        if next_page_token:\n",
    "            params[\"pageToken\"] = next_page_token\n",
    "\n",
    "        response = requests.get(search_url, params=params)\n",
    "        data = response.json()\n",
    "        \n",
    "        video_ids = [item[\"id\"][\"videoId\"] for item in data.get(\"items\", [])]\n",
    "        total_collected += len(video_ids)\n",
    "\n",
    "        # Fetch stats\n",
    "        stats_url = \"https://www.googleapis.com/youtube/v3/videos\"\n",
    "        stats_params = {\n",
    "            \"part\": \"snippet,statistics\",\n",
    "            \"id\": \",\".join(video_ids),\n",
    "            \"key\": API_KEY\n",
    "        }\n",
    "        stats_response = requests.get(stats_url, params=stats_params)\n",
    "        stats_data = stats_response.json()\n",
    "\n",
    "        for item in stats_data.get(\"items\", []):\n",
    "            snippet = item[\"snippet\"]\n",
    "            stats = item[\"statistics\"]\n",
    "\n",
    "            all_video_data.append({\n",
    "                \"keyword\": keyword,\n",
    "                \"video_id\": item[\"id\"],\n",
    "                \"title\": snippet[\"title\"],\n",
    "                \"channel\": snippet[\"channelTitle\"],\n",
    "                \"published\": snippet[\"publishedAt\"],\n",
    "                \"views\": int(stats.get(\"viewCount\", 0)),\n",
    "                \"likes\": int(stats.get(\"likeCount\", 0)),\n",
    "                \"comments\": int(stats.get(\"commentCount\", 0))})\n",
    "\n",
    "        next_page_token = data.get(\"nextPageToken\")\n",
    "        if not next_page_token:\n",
    "            break\n",
    "\n",
    "        time.sleep(1)  # To stay within quota\n",
    "\n",
    "print(f\"Total videos collected: {len(all_video_data)}\")\n",
    "df = pd.DataFrame(all_video_data)\n",
    "df.to_csv(\"youtube_videos.csv\", index=False)\n",
    "df.head()"
   ]
  },
  {
   "cell_type": "code",
   "execution_count": 4,
   "id": "602fc008-f9ef-4840-915f-f4098620193b",
   "metadata": {},
   "outputs": [
    {
     "data": {
      "text/plain": [
       "(3046, 8)"
      ]
     },
     "execution_count": 4,
     "metadata": {},
     "output_type": "execute_result"
    }
   ],
   "source": [
    "df.shape"
   ]
  },
  {
   "cell_type": "code",
   "execution_count": 5,
   "id": "3df8d79e-9566-4747-977a-bb53081ed79a",
   "metadata": {},
   "outputs": [
    {
     "data": {
      "text/plain": [
       "keyword\n",
       "machine learning           625\n",
       "python tutorial            620\n",
       "data science               616\n",
       "data analytics             600\n",
       "artificial intelligence    585\n",
       "Name: count, dtype: int64"
      ]
     },
     "execution_count": 5,
     "metadata": {},
     "output_type": "execute_result"
    }
   ],
   "source": [
    "df[\"keyword\"].value_counts()"
   ]
  },
  {
   "cell_type": "code",
   "execution_count": null,
   "id": "2f4cbcb4-51a8-4d97-98d3-20a2e9ac6bc2",
   "metadata": {},
   "outputs": [],
   "source": []
  }
 ],
 "metadata": {
  "kernelspec": {
   "display_name": "Python 3 (ipykernel)",
   "language": "python",
   "name": "python3"
  },
  "language_info": {
   "codemirror_mode": {
    "name": "ipython",
    "version": 3
   },
   "file_extension": ".py",
   "mimetype": "text/x-python",
   "name": "python",
   "nbconvert_exporter": "python",
   "pygments_lexer": "ipython3",
   "version": "3.11.3"
  }
 },
 "nbformat": 4,
 "nbformat_minor": 5
}
