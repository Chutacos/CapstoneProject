{
 "cells": [
  {
   "cell_type": "code",
   "execution_count": 9,
   "id": "921671d3",
   "metadata": {},
   "outputs": [],
   "source": [
    "from sklearn.pipeline import Pipeline\n",
    "import nbimporter"
   ]
  },
  {
   "cell_type": "code",
   "execution_count": 10,
   "id": "794f02e8",
   "metadata": {},
   "outputs": [],
   "source": [
    "def build_pipeline(model):\n",
    "    preprocessor = build_preprocessor()\n",
    "    return Pipeline([\n",
    "        (\"Preprocessing\", preprocessor),\n",
    "        (\"Model\", model)\n",
    "    ])"
   ]
  },
  {
   "cell_type": "code",
   "execution_count": null,
   "id": "e44b1a74",
   "metadata": {},
   "outputs": [],
   "source": []
  }
 ],
 "metadata": {
  "kernelspec": {
   "display_name": ".venv",
   "language": "python",
   "name": "python3"
  },
  "language_info": {
   "codemirror_mode": {
    "name": "ipython",
    "version": 3
   },
   "file_extension": ".py",
   "mimetype": "text/x-python",
   "name": "python",
   "nbconvert_exporter": "python",
   "pygments_lexer": "ipython3",
   "version": "3.13.5"
  }
 },
 "nbformat": 4,
 "nbformat_minor": 5
}
