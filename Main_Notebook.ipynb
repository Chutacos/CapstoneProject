{
 "cells": [
  {
   "cell_type": "markdown",
   "id": "5bb8e1e1-e8ce-450f-81cd-2d3bba88d7eb",
   "metadata": {},
   "source": [
    "# Capstone Project: Predicting YouTube Video Popularity\n",
    "\n",
    "## 1. Introduction\n",
    "Brief overview of the problem, data, and goals.\n",
    "\n",
    "## 2. Data Preparation\n",
    "See: Code_Library/Data_Preparation.ipynb\n",
    "\n",
    "## 3. Data Exploration\n",
    "See: Code_Library/Data_Exploration.ipynb\n",
    "\n",
    "## 4. Modeling\n",
    "See: Code_Library/Modeling.ipynb\n",
    "\n",
    "## 5. API Setup (Optional)\n",
    "See: Other_Material/youtube_api_setup.ipynb\n",
    "\n",
    "## 6. Final Notes\n",
    "Summary of results, challenges, and future work."
   ]
  },
  {
   "cell_type": "code",
   "execution_count": null,
   "id": "2125ba7b-0a14-4333-93c7-bd9bb06c865c",
   "metadata": {},
   "outputs": [],
   "source": []
  }
 ],
 "metadata": {
  "kernelspec": {
   "display_name": "Python 3 (ipykernel)",
   "language": "python",
   "name": "python3"
  },
  "language_info": {
   "codemirror_mode": {
    "name": "ipython",
    "version": 3
   },
   "file_extension": ".py",
   "mimetype": "text/x-python",
   "name": "python",
   "nbconvert_exporter": "python",
   "pygments_lexer": "ipython3",
   "version": "3.11.3"
  }
 },
 "nbformat": 4,
 "nbformat_minor": 5
}
