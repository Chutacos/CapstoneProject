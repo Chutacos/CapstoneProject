{
 "cells": [
  {
   "cell_type": "code",
   "execution_count": 4,
   "id": "49aaa5b6-59be-48b3-8d56-ba1baeb63f29",
   "metadata": {},
   "outputs": [],
   "source": [
    "import requests\n",
    "import pandas as pd\n",
    "import time\n",
    "from api import API_KEY"
   ]
  },
  {
   "cell_type": "code",
   "execution_count": 9,
   "id": "99037618-bf2f-452e-9fca-e2563bbfc1e5",
   "metadata": {},
   "outputs": [
    {
     "name": "stdout",
     "output_type": "stream",
     "text": [
      "{'error': {'code': 403, 'message': 'The request cannot be completed because you have exceeded your <a href=\"/youtube/v3/getting-started#quota\">quota</a>.', 'errors': [{'message': 'The request cannot be completed because you have exceeded your <a href=\"/youtube/v3/getting-started#quota\">quota</a>.', 'domain': 'youtube.quota', 'reason': 'quotaExceeded'}]}}\n"
     ]
    },
    {
     "ename": "KeyError",
     "evalue": "'items'",
     "output_type": "error",
     "traceback": [
      "\u001b[1;31m---------------------------------------------------------------------------\u001b[0m",
      "\u001b[1;31mKeyError\u001b[0m                                  Traceback (most recent call last)",
      "Cell \u001b[1;32mIn[9], line 18\u001b[0m\n\u001b[0;32m     15\u001b[0m \u001b[38;5;28mprint\u001b[39m(results)\n\u001b[0;32m     17\u001b[0m videos \u001b[38;5;241m=\u001b[39m []\n\u001b[1;32m---> 18\u001b[0m \u001b[38;5;28;01mfor\u001b[39;00m item \u001b[38;5;129;01min\u001b[39;00m \u001b[43mresults\u001b[49m\u001b[43m[\u001b[49m\u001b[38;5;124;43m\"\u001b[39;49m\u001b[38;5;124;43mitems\u001b[39;49m\u001b[38;5;124;43m\"\u001b[39;49m\u001b[43m]\u001b[49m:\n\u001b[0;32m     19\u001b[0m     videos\u001b[38;5;241m.\u001b[39mappend({\n\u001b[0;32m     20\u001b[0m         \u001b[38;5;124m\"\u001b[39m\u001b[38;5;124mvideo_id\u001b[39m\u001b[38;5;124m\"\u001b[39m: item[\u001b[38;5;124m\"\u001b[39m\u001b[38;5;124mid\u001b[39m\u001b[38;5;124m\"\u001b[39m][\u001b[38;5;124m\"\u001b[39m\u001b[38;5;124mvideoId\u001b[39m\u001b[38;5;124m\"\u001b[39m],\n\u001b[0;32m     21\u001b[0m         \u001b[38;5;124m\"\u001b[39m\u001b[38;5;124mtitle\u001b[39m\u001b[38;5;124m\"\u001b[39m: item[\u001b[38;5;124m\"\u001b[39m\u001b[38;5;124msnippet\u001b[39m\u001b[38;5;124m\"\u001b[39m][\u001b[38;5;124m\"\u001b[39m\u001b[38;5;124mtitle\u001b[39m\u001b[38;5;124m\"\u001b[39m],\n\u001b[0;32m     22\u001b[0m         \u001b[38;5;124m\"\u001b[39m\u001b[38;5;124mchannel\u001b[39m\u001b[38;5;124m\"\u001b[39m: item[\u001b[38;5;124m\"\u001b[39m\u001b[38;5;124msnippet\u001b[39m\u001b[38;5;124m\"\u001b[39m][\u001b[38;5;124m\"\u001b[39m\u001b[38;5;124mchannelTitle\u001b[39m\u001b[38;5;124m\"\u001b[39m],\n\u001b[0;32m     23\u001b[0m         \u001b[38;5;124m\"\u001b[39m\u001b[38;5;124mpublished\u001b[39m\u001b[38;5;124m\"\u001b[39m: item[\u001b[38;5;124m\"\u001b[39m\u001b[38;5;124msnippet\u001b[39m\u001b[38;5;124m\"\u001b[39m][\u001b[38;5;124m\"\u001b[39m\u001b[38;5;124mpublishedAt\u001b[39m\u001b[38;5;124m\"\u001b[39m]})\n\u001b[0;32m     25\u001b[0m df \u001b[38;5;241m=\u001b[39m pd\u001b[38;5;241m.\u001b[39mDataFrame(videos)\n",
      "\u001b[1;31mKeyError\u001b[0m: 'items'"
     ]
    }
   ],
   "source": [
    "API_KEY = API_KEY\n",
    "search_query = \"data science\"\n",
    "\n",
    "search_url = \"https://www.googleapis.com/youtube/v3/search\"\n",
    "params = {\n",
    "    \"part\": \"snippet\",\n",
    "    \"q\": search_query,\n",
    "    \"type\": \"video\",\n",
    "    \"maxResults\": 10,\n",
    "    \"key\": API_KEY}\n",
    "\n",
    "response = requests.get(search_url, params=params)\n",
    "results = response.json()\n",
    "\n",
    "videos = []\n",
    "for item in results[\"items\"]:\n",
    "    videos.append({\n",
    "        \"video_id\": item[\"id\"][\"videoId\"],\n",
    "        \"title\": item[\"snippet\"][\"title\"],\n",
    "        \"channel\": item[\"snippet\"][\"channelTitle\"],\n",
    "        \"published\": item[\"snippet\"][\"publishedAt\"]})\n",
    "\n",
    "df = pd.DataFrame(videos)\n",
    "df"
   ]
  },
  {
   "cell_type": "code",
   "execution_count": null,
   "id": "6a7f77bc-2ce7-4b22-817d-f6bcca886d07",
   "metadata": {},
   "outputs": [],
   "source": [
    "video_ids = df[\"video_id\"].tolist()\n",
    "\n",
    "video_stats_url = \"https://www.googleapis.com/youtube/v3/videos\"\n",
    "params = {\n",
    "    \"part\": \"snippet,statistics\",\n",
    "    \"id\": \",\".join(video_ids),\n",
    "    \"key\": API_KEY}\n",
    "\n",
    "response = requests.get(video_stats_url, params=params)\n",
    "video_data = response.json()\n",
    "\n",
    "video_stats = []\n",
    "for item in video_data[\"items\"]:\n",
    "    stats = item[\"statistics\"]\n",
    "    snippet = item[\"snippet\"]\n",
    "    video_stats.append({\n",
    "        \"video_id\": item[\"id\"],\n",
    "        \"title\": snippet[\"title\"],\n",
    "        \"channel\": snippet[\"channelTitle\"],\n",
    "        \"published\": snippet[\"publishedAt\"],\n",
    "        \"views\": int(stats.get(\"viewCount\", 0)),\n",
    "        \"likes\": int(stats.get(\"likeCount\", 0)),\n",
    "        \"comments\": int(stats.get(\"commentCount\", 0))})\n",
    "\n",
    "stats_df = pd.DataFrame(video_stats)\n",
    "stats_df"
   ]
  },
  {
   "cell_type": "code",
   "execution_count": null,
   "id": "a97f05b2-b365-4547-a16a-c5ba419a8726",
   "metadata": {},
   "outputs": [],
   "source": [
    "keywords = [\"data science\", \"machine learning\", \"python tutorial\", \"artificial intelligence\", \"data analytics\", \"ai\", \"ml\"]\n",
    "max_results_per_keyword = 1000\n",
    "\n",
    "all_video_data = []\n",
    "\n",
    "for keyword in keywords:\n",
    "    print(f\"Searching for: {keyword}\")\n",
    "    search_url = \"https://www.googleapis.com/youtube/v3/search\"\n",
    "    next_page_token = None\n",
    "    total_collected = 0\n",
    "\n",
    "    while total_collected < max_results_per_keyword:\n",
    "        params = {\n",
    "            \"part\": \"snippet\",\n",
    "            \"q\": keyword,\n",
    "            \"type\": \"video\",\n",
    "            \"maxResults\": 50,\n",
    "            \"key\": API_KEY}\n",
    "        if next_page_token:\n",
    "            params[\"pageToken\"] = next_page_token\n",
    "\n",
    "        response = requests.get(search_url, params=params)\n",
    "        data = response.json()\n",
    "        \n",
    "        video_ids = [item[\"id\"][\"videoId\"] for item in data.get(\"items\", [])]\n",
    "        total_collected += len(video_ids)\n",
    "\n",
    "        # Fetch stats\n",
    "        stats_url = \"https://www.googleapis.com/youtube/v3/videos\"\n",
    "        stats_params = {\n",
    "            \"part\": \"snippet,statistics\",\n",
    "            \"id\": \",\".join(video_ids),\n",
    "            \"key\": API_KEY\n",
    "        }\n",
    "        stats_response = requests.get(stats_url, params=stats_params)\n",
    "        stats_data = stats_response.json()\n",
    "\n",
    "        for item in stats_data.get(\"items\", []):\n",
    "            snippet = item[\"snippet\"]\n",
    "            stats = item[\"statistics\"]\n",
    "\n",
    "            all_video_data.append({\n",
    "                \"keyword\": keyword,\n",
    "                \"video_id\": item[\"id\"],\n",
    "                \"title\": snippet[\"title\"],\n",
    "                \"channel\": snippet[\"channelTitle\"],\n",
    "                \"published\": snippet[\"publishedAt\"],\n",
    "                \"views\": int(stats.get(\"viewCount\", 0)),\n",
    "                \"likes\": int(stats.get(\"likeCount\", 0)),\n",
    "                \"comments\": int(stats.get(\"commentCount\", 0))})\n",
    "\n",
    "        next_page_token = data.get(\"nextPageToken\")\n",
    "        if not next_page_token:\n",
    "            break\n",
    "\n",
    "        time.sleep(1)  # To stay within quota\n",
    "\n",
    "print(f\"Total videos collected: {len(all_video_data)}\")\n",
    "df = pd.DataFrame(all_video_data)\n",
    "df.to_csv(\"youtube_videos_1000.csv\", index=False)\n",
    "df.head()"
   ]
  },
  {
   "cell_type": "code",
   "execution_count": null,
   "id": "602fc008-f9ef-4840-915f-f4098620193b",
   "metadata": {},
   "outputs": [],
   "source": [
    "df.shape"
   ]
  },
  {
   "cell_type": "code",
   "execution_count": null,
   "id": "3df8d79e-9566-4747-977a-bb53081ed79a",
   "metadata": {},
   "outputs": [],
   "source": [
    "df[\"keyword\"].value_counts()"
   ]
  },
  {
   "cell_type": "code",
   "execution_count": null,
   "id": "2f4cbcb4-51a8-4d97-98d3-20a2e9ac6bc2",
   "metadata": {},
   "outputs": [],
   "source": []
  }
 ],
 "metadata": {
  "kernelspec": {
   "display_name": "Python 3 (ipykernel)",
   "language": "python",
   "name": "python3"
  },
  "language_info": {
   "codemirror_mode": {
    "name": "ipython",
    "version": 3
   },
   "file_extension": ".py",
   "mimetype": "text/x-python",
   "name": "python",
   "nbconvert_exporter": "python",
   "pygments_lexer": "ipython3",
   "version": "3.11.3"
  }
 },
 "nbformat": 4,
 "nbformat_minor": 5
}
