{
 "cells": [
  {
   "cell_type": "code",
   "execution_count": 1,
   "id": "f594638e-eab4-4e8b-810c-99d99e3a1fa2",
   "metadata": {},
   "outputs": [],
   "source": [
    "import requests\n",
    "from pprint import pprint\n",
    "from api import API_KEY"
   ]
  },
  {
   "cell_type": "code",
   "execution_count": 2,
   "id": "f751659f-bda7-42af-9739-f951acccd6a3",
   "metadata": {},
   "outputs": [
    {
     "name": "stdout",
     "output_type": "stream",
     "text": [
      "API is working\n",
      "Channel title: Google for Developers\n",
      "Subscribers: 2520000\n"
     ]
    }
   ],
   "source": [
    "API_KEY = API_KEY\n",
    "channel_id = \"UC_x5XG1OV2P6uZZ5FSM9Ttw\"\n",
    "\n",
    "url = f\"https://www.googleapis.com/youtube/v3/channels?part=snippet,statistics&id={channel_id}&key={API_KEY}\"\n",
    "response = requests.get(url)\n",
    "\n",
    "if response.status_code == 200:\n",
    "    data = response.json()\n",
    "    print(\"API is working\")\n",
    "    print(\"Channel title:\", data[\"items\"][0][\"snippet\"][\"title\"])\n",
    "    print(\"Subscribers:\", data[\"items\"][0][\"statistics\"][\"subscriberCount\"])\n",
    "else:\n",
    "    print(\"Error:\", response.status_code)\n",
    "    print(response.text)"
   ]
  },
  {
   "cell_type": "code",
   "execution_count": 3,
   "id": "f8e06238-5508-44a5-8d1c-bf90c5922fd0",
   "metadata": {},
   "outputs": [
    {
     "name": "stdout",
     "output_type": "stream",
     "text": [
      "{'etag': 'LmPo8RPwOype1ftQ8Z6XLVFokX8',\n",
      " 'items': [{'etag': 'sBBIxT5CkpuzHcON7hHLTfUVOpc',\n",
      "            'id': 'UC_x5XG1OV2P6uZZ5FSM9Ttw',\n",
      "            'kind': 'youtube#channel',\n",
      "            'snippet': {'country': 'US',\n",
      "                        'customUrl': '@googledevelopers',\n",
      "                        'description': 'Subscribe to join a community of '\n",
      "                                       'creative developers and learn the '\n",
      "                                       'latest in Google technology — from AI '\n",
      "                                       'and cloud, to mobile and web.\\n'\n",
      "                                       '\\n'\n",
      "                                       'Explore more at developers.google.com\\n'\n",
      "                                       '\\n',\n",
      "                        'localized': {'description': 'Subscribe to join a '\n",
      "                                                     'community of creative '\n",
      "                                                     'developers and learn the '\n",
      "                                                     'latest in Google '\n",
      "                                                     'technology — from AI and '\n",
      "                                                     'cloud, to mobile and '\n",
      "                                                     'web.\\n'\n",
      "                                                     '\\n'\n",
      "                                                     'Explore more at '\n",
      "                                                     'developers.google.com\\n'\n",
      "                                                     '\\n',\n",
      "                                      'title': 'Google for Developers'},\n",
      "                        'publishedAt': '2007-08-23T00:34:43Z',\n",
      "                        'thumbnails': {'default': {'height': 88,\n",
      "                                                   'url': 'https://yt3.ggpht.com/2eI1TjX447QZFDe6R32K0V2mjbVMKT5mIfQR-wK5bAsxttS_7qzUDS1ojoSKeSP0NuWd6sl7qQ=s88-c-k-c0x00ffffff-no-rj',\n",
      "                                                   'width': 88},\n",
      "                                       'high': {'height': 800,\n",
      "                                                'url': 'https://yt3.ggpht.com/2eI1TjX447QZFDe6R32K0V2mjbVMKT5mIfQR-wK5bAsxttS_7qzUDS1ojoSKeSP0NuWd6sl7qQ=s800-c-k-c0x00ffffff-no-rj',\n",
      "                                                'width': 800},\n",
      "                                       'medium': {'height': 240,\n",
      "                                                  'url': 'https://yt3.ggpht.com/2eI1TjX447QZFDe6R32K0V2mjbVMKT5mIfQR-wK5bAsxttS_7qzUDS1ojoSKeSP0NuWd6sl7qQ=s240-c-k-c0x00ffffff-no-rj',\n",
      "                                                  'width': 240}},\n",
      "                        'title': 'Google for Developers'},\n",
      "            'statistics': {'hiddenSubscriberCount': False,\n",
      "                           'subscriberCount': '2520000',\n",
      "                           'videoCount': '6677',\n",
      "                           'viewCount': '401997699'}}],\n",
      " 'kind': 'youtube#channelListResponse',\n",
      " 'pageInfo': {'resultsPerPage': 5, 'totalResults': 1}}\n"
     ]
    }
   ],
   "source": [
    "from pprint import pprint\n",
    "pprint(data)"
   ]
  },
  {
   "cell_type": "code",
   "execution_count": null,
   "id": "b3957973-3615-4711-b878-0c64c052ea61",
   "metadata": {},
   "outputs": [],
   "source": []
  }
 ],
 "metadata": {
  "kernelspec": {
   "display_name": "Python 3 (ipykernel)",
   "language": "python",
   "name": "python3"
  },
  "language_info": {
   "codemirror_mode": {
    "name": "ipython",
    "version": 3
   },
   "file_extension": ".py",
   "mimetype": "text/x-python",
   "name": "python",
   "nbconvert_exporter": "python",
   "pygments_lexer": "ipython3",
   "version": "3.11.3"
  }
 },
 "nbformat": 4,
 "nbformat_minor": 5
}
